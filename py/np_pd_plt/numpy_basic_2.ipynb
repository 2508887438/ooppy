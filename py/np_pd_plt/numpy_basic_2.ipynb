{
 "cells": [
  {
   "cell_type": "code",
   "execution_count": 8,
   "metadata": {},
   "outputs": [
    {
     "name": "stdout",
     "output_type": "stream",
     "text": [
      "0 9\n"
     ]
    },
    {
     "data": {
      "image/png": "[encoded data removed]",
      "text/plain": [
       "<matplotlib.figure.Figure at 0x7f630e0f5050>"
      ]
     },
     "metadata": {},
     "output_type": "display_data"
    }
   ],
   "source": [
    "#!/usr/bin/env python\n",
    "# -*- coding: utf-8 -*-\n",
    "\n",
    "\n",
    "import numpy as np\n",
    "\n",
    "### matrix inverse\n",
    "# A =np.mat(\"2 4 6; 4 2 6; 10 -4 18\")\n",
    "# print \"A\\n\", A\n",
    "# inv = np.linalg.inv(A)\n",
    "\n",
    "# print \"inverse of A\\n\", inv\n",
    "# print \"Check\\n\", A*inv\n",
    "# print \"Error\\n\", A*inv - np.eye(3)\n",
    "\n",
    "### Solving linear systems \n",
    "# A = np.mat(\"1 -2 1;0 2 -8; -4 5 9\")\n",
    "# print \"A\\n\", A\n",
    "\n",
    "# b = np.array([0,8,-9])\n",
    "# print \"b\\n\", b\n",
    "\n",
    "# x = np.linalg.solve(A, b)\n",
    "# print \"Solution\\n\", x\n",
    "\n",
    "# print \"Check\\n\", np.dot(A, x)\n",
    "\n",
    "### Finding Eigenvalues and eigenvectors\n",
    "\n",
    "# A = np.mat(\"3 -2; 1 0\")\n",
    "# print \"A\\n\", A\n",
    "\n",
    "# print \"Eigenvalues\\n\", np.linalg.eigvals(A)\n",
    "\n",
    "# eigenvalues, eigenvectors = np.linalg.eig(A)\n",
    "# print \"First tuple of eig\", eigenvalues\n",
    "# print \"Second tuple of eig\\n\", eigenvectors\n",
    "\n",
    "# for i in range(len(eigenvalues)):\n",
    "#    print \"Left\", np.dot(A, eigenvectors[:,i])\n",
    "#    print \"Right\", eigenvalues[i] * eigenvectors[:,i]\n",
    "\n",
    "### binomial distribution\n",
    "\n",
    "from matplotlib.pyplot import plot, show\n",
    "\n",
    "cash = np.zeros(10000)\n",
    "cash[0] = 1000\n",
    "outcome = np.random.binomial(9, 0.5, size=len(cash))\n",
    "\n",
    "for i in range(1, len(cash)):\n",
    "    if outcome[i] < 5:\n",
    "        cash[i] = cash[i-1] - 1\n",
    "    elif outcome[i] <10:\n",
    "        cash[i] = cash[i-1] + 1\n",
    "    else:\n",
    "        raise AssertionError(\"Unexpected outcome\" + outcome)\n",
    "\n",
    "print outcome.min(), outcome.max()\n",
    "\n",
    "plot(np.arange(len(cash)), cash)\n",
    "show()"
   ]
  },
  {
   "cell_type": "code",
   "execution_count": null,
   "metadata": {
    "collapsed": true
   },
   "outputs": [],
   "source": []
  },
  {
   "cell_type": "code",
   "execution_count": 3,
   "metadata": {},
   "outputs": [
    {
     "name": "stdout",
     "output_type": "stream",
     "text": [
      "A\n",
      " [[ 1 -2  1]\n",
      " [ 0  2 -8]\n",
      " [-4  5  9]]\n",
      "b\n",
      " [ 0  8 -9]\n",
      "Solution\n",
      " [29. 16.  3.]\n",
      "Check\n",
      " [[ 0.  8. -9.]]\n"
     ]
    }
   ],
   "source": [
    "#!/usr/bin/env python\n",
    "# -*- coding: utf-8 -*-\n",
    "\n",
    "\n",
    "import numpy as np\n",
    "\n",
    "# ### Solving linear systems \n",
    "# A = np.mat(\"1 -2 1;0 2 -8; -4 5 9\")\n",
    "# print(\"A\\n\", A)\n",
    "\n",
    "# b = np.array([0,8,-9])\n",
    "# print(\"b\\n\", b)\n",
    "\n",
    "# x = np.linalg.solve(A, b)\n",
    "# print(\"Solution\\n\", x)\n",
    "\n",
    "# print(\"Check\\n\", np.dot(A, x))\n",
    "\n",
    "### Finding Eigenvalues and eigenvectors\n",
    "\n",
    "# A = np.mat(\"3 -2; 1 0\")\n",
    "# print \"A\\n\", A\n",
    "\n",
    "# print \"Eigenvalues\\n\", np.linalg.eigvals(A)\n",
    "\n",
    "# eigenvalues, eigenvectors = np.linalg.eig(A)\n",
    "# print \"First tuple of eig\", eigenvalues\n",
    "# print \"Second tuple of eig\\n\", eigenvectors\n",
    "\n",
    "# for i in range(len(eigenvalues)):\n",
    "#    print \"Left\", np.dot(A, eigenvectors[:,i])\n",
    "#    print \"Right\", eigenvalues[i] * eigenvectors[:,i]\n",
    "\n",
    "## binomial distribution\n",
    "\n",
    "from matplotlib.pyplot import plot, show\n",
    "\n",
    "cash = np.zeros(10000)\n",
    "cash[0] = 1000\n",
    "outcome = np.random.binomial(9, 0.5, size=len(cash))\n",
    "\n",
    "for i in range(1, len(cash)):\n",
    "    if outcome[i] < 5:\n",
    "        cash[i] = cash[i-1] - 1\n",
    "    elif outcome[i] <10:\n",
    "        cash[i] = cash[i-1] + 1\n",
    "    else:\n",
    "        raise AssertionError(\"Unexpected outcome\" + outcome)\n",
    "\n",
    "print outcome.min(), outcome.max()\n",
    "\n",
    "plot(np.arange(len(cash)), cash)\n",
    "show()"
   ]
  },
  {
   "cell_type": "code",
   "execution_count": 8,
   "metadata": {},
   "outputs": [
    {
     "name": "stdout",
     "output_type": "stream",
     "text": [
      "0 9\n"
     ]
    },
    {
     "data": {
      "image/png": "[encoded data removed]",
      "text/plain": [
       "<matplotlib.figure.Figure at 0x7f630e0f5050>"
      ]
     },
     "metadata": {},
     "output_type": "display_data"
    }
   ],
   "source": []
  },
  {
   "cell_type": "code",
   "execution_count": null,
   "metadata": {
    "collapsed": true
   },
   "outputs": [],
   "source": []
  },
  {
   "cell_type": "code",
   "execution_count": null,
   "metadata": {
    "collapsed": true
   },
   "outputs": [],
   "source": []
  }
 ],
 "metadata": {
  "kernelspec": {
   "display_name": "Python 3",
   "language": "python",
   "name": "python3"
  },
  "language_info": {
   "codemirror_mode": {
    "name": "ipython",
    "version": 3
   },
   "file_extension": ".py",
   "mimetype": "text/x-python",
   "name": "python",
   "nbconvert_exporter": "python",
   "pygments_lexer": "ipython3",
   "version": "3.5.2"
  }
 },
 "nbformat": 4,
 "nbformat_minor": 2
}
