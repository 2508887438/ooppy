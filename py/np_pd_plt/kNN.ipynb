{
 "cells": [
  {
   "cell_type": "code",
   "execution_count": 1,
   "metadata": {},
   "outputs": [
    {
     "ename": "SyntaxError",
     "evalue": "Missing parentheses in call to 'print' (<ipython-input-1-8a6803fc0be9>, line 23)",
     "output_type": "error",
     "traceback": [
      "\u001b[0;36m  File \u001b[0;32m\"<ipython-input-1-8a6803fc0be9>\"\u001b[0;36m, line \u001b[0;32m23\u001b[0m\n\u001b[0;31m    print classCount\u001b[0m\n\u001b[0m                   ^\u001b[0m\n\u001b[0;31mSyntaxError\u001b[0m\u001b[0;31m:\u001b[0m Missing parentheses in call to 'print'\n"
     ]
    }
   ],
   "source": [
    "from numpy import *\n",
    "import operator\n",
    "\n",
    "def createDataSet():\n",
    "    group = array([[1.0,1.1],[1.0,1.0],[0,0],[0,0.1]])\n",
    "    labels = ['A','A','B','B']\n",
    "    return group, labels\n",
    "\n",
    "def classify0(inX, dataSet, labels, k):\n",
    "    dataSetSize = dataSet.shape[0] # 数据集行数\n",
    "    diffMat = tile(inX, (dataSetSize,1)) - dataSet\n",
    "\n",
    "    sqDiffMat = diffMat**2\n",
    "    sqDistances = sqDiffMat.sum(axis=1)\n",
    "    distances = sqDistances**0.5\n",
    "    sortedDistIndicies = distances.argsort()\n",
    "    classCount={}\n",
    "    \n",
    "    for i in range(k):\n",
    "        voteIlabel = labels[sortedDistIndicies[i]]\n",
    "        classCount[voteIlabel] = classCount.get(voteIlabel,0) + 1\n",
    "    \n",
    "    print(classCount)\n",
    "    sortedClassCount = sorted(classCount.iteritems(), \\\n",
    "                             key=operator.itemgetter(1), \n",
    "                             reverse=True)\n",
    "    \n",
    "    return sortedClassCount[0][0]\n",
    "\n",
    "group, labels = createDataSet()\n",
    "\n",
    "# print group\n",
    "# print labels\n",
    "\n",
    "classify0([0,0.5], group, labels,3)\n",
    "# diffMat =  tile([0,0], (4,1)) - group\n",
    "# sqDiffMat = diffMat**2\n",
    "# sqDistances = sqDiffMat.sum(axis=1)\n",
    "# distances = sqDistances**0.5\n",
    "# sqDistances = sqDiffMat.sum(axis=1)\n",
    "# sortedDistIndicies = distances.argsort()\n",
    "# print sortedDistIndicies\n",
    "# print labels[2]\n",
    "\n"
   ]
  }
 ],
 "metadata": {
  "kernelspec": {
   "display_name": "Python 3",
   "language": "python",
   "name": "python3"
  },
  "language_info": {
   "codemirror_mode": {
    "name": "ipython",
    "version": 3
   },
   "file_extension": ".py",
   "mimetype": "text/x-python",
   "name": "python",
   "nbconvert_exporter": "python",
   "pygments_lexer": "ipython3",
   "version": "3.5.2"
  }
 },
 "nbformat": 4,
 "nbformat_minor": 2
}
