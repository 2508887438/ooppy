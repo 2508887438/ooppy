{
 "cells": [
  {
   "cell_type": "code",
   "execution_count": 20,
   "metadata": {},
   "outputs": [
    {
     "name": "stdout",
     "output_type": "stream",
     "text": [
      "WF Groups {('hot', 'chocolate'): Int64Index([3], dtype='int64'), ('cold', 'icecream'): Int64Index([2, 4], dtype='int64'), ('cold', 'soup'): Int64Index([0, 6], dtype='int64'), ('hot', 'soup'): Int64Index([1], dtype='int64'), ('hot', 'icecream'): Int64Index([5], dtype='int64')}\n",
      "WF Aggregated                   Number            Price          \n",
      "                    mean median      mean    median\n",
      "Weather Food                                       \n",
      "cold    icecream       6      6  4.440063  4.440063\n",
      "        soup           7      7  2.163119  2.163119\n",
      "hot     chocolate      8      8  5.986585  5.986585\n",
      "        icecream       3      3  1.559945  1.559945\n",
      "        soup           5      5  9.507143  9.507143\n"
     ]
    }
   ],
   "source": [
    "import pandas as pd\n",
    "from numpy.random import seed\n",
    "from numpy.random import rand\n",
    "from numpy.random import randint\n",
    "import numpy as np\n",
    "\n",
    "seed(42)\n",
    "\n",
    "df = pd.DataFrame({'Weather' : ['cold', 'hot', 'cold','hot','cold', \\\n",
    "                              'hot','cold'], \\\n",
    "                   'Food' : ['soup', 'soup', 'icecream', 'chocolate', \\\n",
    "                           'icecream', 'icecream', 'soup'], \\\n",
    "                   'Price' : 10 * rand(7), \\\n",
    "                   # 'Number': random_integers(1,9,size=(7,))})\n",
    "                   'Number': randint(1,9,size=(7,))})\n",
    "                   \n",
    "# print df\n",
    "\n",
    "weather_group = df.groupby('Weather')\n",
    "\n",
    "# i = 0\n",
    "# for name, group in weather_group:\n",
    "#    i += 1 \n",
    "#    print \"Group\", i, name\n",
    "#    print \"------------\"\n",
    "#     print group\n",
    "    \n",
    "# print \"Weather group first\\n\", weather_group.first()\n",
    "# print \"Weather group last\\n\", weather_group.last()\n",
    "# print \"Weather group mean\\n\", weather_group.mean()\n",
    "\n",
    "wf_group = df.groupby(['Weather','Food'])\n",
    "print \"WF Groups\", wf_group.groups\n",
    "print \"WF Aggregated\", wf_group.agg([np.mean, np.median])\n"
   ]
  }
 ],
 "metadata": {
  "kernelspec": {
   "display_name": "Python 3",
   "language": "python",
   "name": "python3"
  },
  "language_info": {
   "codemirror_mode": {
    "name": "ipython",
    "version": 3
   },
   "file_extension": ".py",
   "mimetype": "text/x-python",
   "name": "python",
   "nbconvert_exporter": "python",
   "pygments_lexer": "ipython3",
   "version": "3.5.2"
  }
 },
 "nbformat": 4,
 "nbformat_minor": 2
}
